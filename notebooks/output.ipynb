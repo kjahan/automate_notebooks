{
 "cells": [
  {
   "cell_type": "code",
   "execution_count": 1,
   "id": "3a34c478",
   "metadata": {
    "execution": {
     "iopub.execute_input": "2021-08-22T17:22:58.029341Z",
     "iopub.status.busy": "2021-08-22T17:22:58.028737Z",
     "iopub.status.idle": "2021-08-22T17:22:58.031886Z",
     "shell.execute_reply": "2021-08-22T17:22:58.032474Z"
    },
    "papermill": {
     "duration": 0.020912,
     "end_time": "2021-08-22T17:22:58.032671",
     "exception": false,
     "start_time": "2021-08-22T17:22:58.011759",
     "status": "completed"
    },
    "tags": [
     "parameters"
    ]
   },
   "outputs": [],
   "source": [
    "msgs = [\"Hello world!\"]"
   ]
  },
  {
   "cell_type": "code",
   "execution_count": 2,
   "id": "fd466eb7",
   "metadata": {
    "execution": {
     "iopub.execute_input": "2021-08-22T17:22:58.053693Z",
     "iopub.status.busy": "2021-08-22T17:22:58.052525Z",
     "iopub.status.idle": "2021-08-22T17:22:58.055968Z",
     "shell.execute_reply": "2021-08-22T17:22:58.056454Z"
    },
    "papermill": {
     "duration": 0.014781,
     "end_time": "2021-08-22T17:22:58.056610",
     "exception": false,
     "start_time": "2021-08-22T17:22:58.041829",
     "status": "completed"
    },
    "tags": [
     "injected-parameters"
    ]
   },
   "outputs": [],
   "source": [
    "# Parameters\n",
    "alpha = 0.6\n",
    "l1_ratio = 0.1\n"
   ]
  },
  {
   "cell_type": "code",
   "execution_count": 3,
   "id": "b3a373b1",
   "metadata": {
    "execution": {
     "iopub.execute_input": "2021-08-22T17:22:58.073859Z",
     "iopub.status.busy": "2021-08-22T17:22:58.072354Z",
     "iopub.status.idle": "2021-08-22T17:22:58.077949Z",
     "shell.execute_reply": "2021-08-22T17:22:58.078396Z"
    },
    "papermill": {
     "duration": 0.016291,
     "end_time": "2021-08-22T17:22:58.078536",
     "exception": false,
     "start_time": "2021-08-22T17:22:58.062245",
     "status": "completed"
    },
    "tags": []
   },
   "outputs": [
    {
     "name": "stdout",
     "output_type": "stream",
     "text": [
      "Hello world!\n"
     ]
    }
   ],
   "source": [
    "for msg in msgs:\n",
    "    print(msg)"
   ]
  },
  {
   "cell_type": "code",
   "execution_count": 4,
   "id": "23dac976",
   "metadata": {
    "execution": {
     "iopub.execute_input": "2021-08-22T17:22:58.098692Z",
     "iopub.status.busy": "2021-08-22T17:22:58.098056Z",
     "iopub.status.idle": "2021-08-22T17:22:58.101129Z",
     "shell.execute_reply": "2021-08-22T17:22:58.101642Z"
    },
    "papermill": {
     "duration": 0.01748,
     "end_time": "2021-08-22T17:22:58.101816",
     "exception": false,
     "start_time": "2021-08-22T17:22:58.084336",
     "status": "completed"
    },
    "tags": []
   },
   "outputs": [
    {
     "name": "stdout",
     "output_type": "stream",
     "text": [
      "0.6\n"
     ]
    }
   ],
   "source": [
    "print(alpha)"
   ]
  },
  {
   "cell_type": "code",
   "execution_count": 5,
   "id": "944f1f6e",
   "metadata": {
    "execution": {
     "iopub.execute_input": "2021-08-22T17:22:58.121359Z",
     "iopub.status.busy": "2021-08-22T17:22:58.120609Z",
     "iopub.status.idle": "2021-08-22T17:22:58.125756Z",
     "shell.execute_reply": "2021-08-22T17:22:58.126230Z"
    },
    "papermill": {
     "duration": 0.018423,
     "end_time": "2021-08-22T17:22:58.126375",
     "exception": false,
     "start_time": "2021-08-22T17:22:58.107952",
     "status": "completed"
    },
    "tags": []
   },
   "outputs": [
    {
     "name": "stdout",
     "output_type": "stream",
     "text": [
      "0.1\n"
     ]
    }
   ],
   "source": [
    "print(l1_ratio)"
   ]
  }
 ],
 "metadata": {
  "celltoolbar": "Tags",
  "kernelspec": {
   "display_name": "Python 3",
   "language": "python",
   "name": "python3"
  },
  "language_info": {
   "codemirror_mode": {
    "name": "ipython",
    "version": 3
   },
   "file_extension": ".py",
   "mimetype": "text/x-python",
   "name": "python",
   "nbconvert_exporter": "python",
   "pygments_lexer": "ipython3",
   "version": "3.6.13"
  },
  "papermill": {
   "default_parameters": {},
   "duration": 2.266442,
   "end_time": "2021-08-22T17:22:58.445007",
   "environment_variables": {},
   "exception": null,
   "input_path": "notebooks/run_me.ipynb",
   "output_path": "notebooks/output.ipynb",
   "parameters": {
    "alpha": 0.6,
    "l1_ratio": 0.1
   },
   "start_time": "2021-08-22T17:22:56.178565",
   "version": "2.3.3"
  }
 },
 "nbformat": 4,
 "nbformat_minor": 5
}
